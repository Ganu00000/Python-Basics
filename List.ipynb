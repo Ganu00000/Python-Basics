{
 "cells": [
  {
   "cell_type": "code",
   "execution_count": 1,
   "id": "a167a63c",
   "metadata": {},
   "outputs": [],
   "source": [
    "#List is an ordered, mutable collection of elements\n",
    "name=[\"Ganesh\",\"Dhoni\",\"Marry\"]"
   ]
  },
  {
   "cell_type": "code",
   "execution_count": 2,
   "id": "e5a3dc8e",
   "metadata": {},
   "outputs": [
    {
     "name": "stdout",
     "output_type": "stream",
     "text": [
      "['Ganesh', 'Dhoni', 'Marry']\n"
     ]
    }
   ],
   "source": [
    "print(name)"
   ]
  },
  {
   "cell_type": "code",
   "execution_count": 3,
   "id": "44937a4f",
   "metadata": {},
   "outputs": [
    {
     "name": "stdout",
     "output_type": "stream",
     "text": [
      "['Ganesh', 'Dhoni', 'Marry', 'Raina']\n"
     ]
    }
   ],
   "source": [
    "#how to insert elements in list\n",
    "name.append(\"Raina\")\n",
    "print(name)"
   ]
  },
  {
   "cell_type": "code",
   "execution_count": 4,
   "id": "f652410c",
   "metadata": {},
   "outputs": [],
   "source": [
    "#we can also use insert method to add element\n",
    "name.insert(2,\"Rohit\")"
   ]
  },
  {
   "cell_type": "code",
   "execution_count": 5,
   "id": "efbf40a7",
   "metadata": {},
   "outputs": [
    {
     "name": "stdout",
     "output_type": "stream",
     "text": [
      "['Ganesh', 'Dhoni', 'Rohit', 'Marry', 'Raina']\n"
     ]
    }
   ],
   "source": [
    "print(name)"
   ]
  },
  {
   "cell_type": "code",
   "execution_count": 6,
   "id": "8ff093f3",
   "metadata": {},
   "outputs": [],
   "source": [
    "# In the above method 2 is index. So, \"Rohit\" is inserted at second index\n",
    "#Let's see how to delete element from list\n",
    "name.remove(\"Rohit\")"
   ]
  },
  {
   "cell_type": "code",
   "execution_count": 7,
   "id": "406578b7",
   "metadata": {},
   "outputs": [
    {
     "name": "stdout",
     "output_type": "stream",
     "text": [
      "['Ganesh', 'Dhoni', 'Marry', 'Raina']\n"
     ]
    }
   ],
   "source": [
    "print(name)"
   ]
  },
  {
   "cell_type": "code",
   "execution_count": 8,
   "id": "c6106622",
   "metadata": {},
   "outputs": [],
   "source": [
    "#we can also use del method to delete the element\n",
    "del name[0] # this will delete the first element"
   ]
  },
  {
   "cell_type": "code",
   "execution_count": 9,
   "id": "4843d2e6",
   "metadata": {},
   "outputs": [
    {
     "data": {
      "text/plain": [
       "['Dhoni', 'Marry', 'Raina']"
      ]
     },
     "execution_count": 9,
     "metadata": {},
     "output_type": "execute_result"
    }
   ],
   "source": [
    "name"
   ]
  },
  {
   "cell_type": "code",
   "execution_count": 10,
   "id": "baaa7dcf",
   "metadata": {},
   "outputs": [
    {
     "data": {
      "text/plain": [
       "'Raina'"
      ]
     },
     "execution_count": 10,
     "metadata": {},
     "output_type": "execute_result"
    }
   ],
   "source": [
    "# Now let's see how to access the last element\n",
    "name[-1]"
   ]
  },
  {
   "cell_type": "code",
   "execution_count": 11,
   "id": "4acb2a10",
   "metadata": {},
   "outputs": [
    {
     "data": {
      "text/plain": [
       "['Marry', 'Raina']"
      ]
     },
     "execution_count": 11,
     "metadata": {},
     "output_type": "execute_result"
    }
   ],
   "source": [
    "name[-2:] #this will access the elements from second last"
   ]
  },
  {
   "cell_type": "code",
   "execution_count": 12,
   "id": "b8721e93",
   "metadata": {},
   "outputs": [
    {
     "data": {
      "text/plain": [
       "['Dhoni', 'Marry']"
      ]
     },
     "execution_count": 12,
     "metadata": {},
     "output_type": "execute_result"
    }
   ],
   "source": [
    "name[0:2] #this will access the first and second element"
   ]
  },
  {
   "cell_type": "code",
   "execution_count": null,
   "id": "aa03b595",
   "metadata": {},
   "outputs": [],
   "source": []
  }
 ],
 "metadata": {
  "kernelspec": {
   "display_name": "Python 3 (ipykernel)",
   "language": "python",
   "name": "python3"
  },
  "language_info": {
   "codemirror_mode": {
    "name": "ipython",
    "version": 3
   },
   "file_extension": ".py",
   "mimetype": "text/x-python",
   "name": "python",
   "nbconvert_exporter": "python",
   "pygments_lexer": "ipython3",
   "version": "3.9.12"
  }
 },
 "nbformat": 4,
 "nbformat_minor": 5
}
