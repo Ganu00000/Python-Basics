{
 "cells": [
  {
   "cell_type": "code",
   "execution_count": 1,
   "id": "f9209a2c",
   "metadata": {},
   "outputs": [],
   "source": [
    "#set is mutable and unordered collection of elements. It don't contain duplicate values\n",
    "fruits={\"orange\",\"mango\",\"papaya\"}"
   ]
  },
  {
   "cell_type": "code",
   "execution_count": 2,
   "id": "786e231c",
   "metadata": {},
   "outputs": [
    {
     "data": {
      "text/plain": [
       "{'mango', 'orange', 'papaya'}"
      ]
     },
     "execution_count": 2,
     "metadata": {},
     "output_type": "execute_result"
    }
   ],
   "source": [
    "fruits"
   ]
  },
  {
   "cell_type": "code",
   "execution_count": 3,
   "id": "e3dc991c",
   "metadata": {},
   "outputs": [],
   "source": [
    "fruits.add(\"banana\") #adding elements in set"
   ]
  },
  {
   "cell_type": "code",
   "execution_count": 4,
   "id": "d92776a5",
   "metadata": {},
   "outputs": [
    {
     "data": {
      "text/plain": [
       "{'banana', 'mango', 'orange', 'papaya'}"
      ]
     },
     "execution_count": 4,
     "metadata": {},
     "output_type": "execute_result"
    }
   ],
   "source": [
    "fruits"
   ]
  },
  {
   "cell_type": "code",
   "execution_count": 5,
   "id": "8f13ae8b",
   "metadata": {},
   "outputs": [
    {
     "name": "stdout",
     "output_type": "stream",
     "text": [
      "{'orange', 'mango', 'banana', 'papaya'}\n"
     ]
    }
   ],
   "source": [
    "fruits.add(\"mango\")\n",
    "print(fruits)"
   ]
  },
  {
   "cell_type": "code",
   "execution_count": 6,
   "id": "c278dff8",
   "metadata": {},
   "outputs": [
    {
     "name": "stdout",
     "output_type": "stream",
     "text": [
      "{'mango', 'banana', 'papaya'}\n"
     ]
    }
   ],
   "source": [
    "fruits.remove(\"orange\") #removing elements from set using remove method\n",
    "print(fruits)"
   ]
  },
  {
   "cell_type": "code",
   "execution_count": 7,
   "id": "0f37e3af",
   "metadata": {},
   "outputs": [],
   "source": [
    "fruits.discard(\"mango\") #removing elements from set using discard method"
   ]
  },
  {
   "cell_type": "code",
   "execution_count": 8,
   "id": "908955ee",
   "metadata": {},
   "outputs": [
    {
     "data": {
      "text/plain": [
       "{'banana', 'papaya'}"
      ]
     },
     "execution_count": 8,
     "metadata": {},
     "output_type": "execute_result"
    }
   ],
   "source": [
    "fruits"
   ]
  },
  {
   "cell_type": "code",
   "execution_count": null,
   "id": "f4cbd3a2",
   "metadata": {},
   "outputs": [],
   "source": []
  }
 ],
 "metadata": {
  "kernelspec": {
   "display_name": "Python 3 (ipykernel)",
   "language": "python",
   "name": "python3"
  },
  "language_info": {
   "codemirror_mode": {
    "name": "ipython",
    "version": 3
   },
   "file_extension": ".py",
   "mimetype": "text/x-python",
   "name": "python",
   "nbconvert_exporter": "python",
   "pygments_lexer": "ipython3",
   "version": "3.9.12"
  }
 },
 "nbformat": 4,
 "nbformat_minor": 5
}
