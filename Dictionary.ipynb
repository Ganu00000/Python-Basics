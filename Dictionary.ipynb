{
 "cells": [
  {
   "cell_type": "code",
   "execution_count": 1,
   "id": "4dbbaec1",
   "metadata": {},
   "outputs": [],
   "source": [
    "#Dictionary is map type in python. It is ordered from version 3.6 onwards\n",
    "student_inf={\"Ganesh\":22,\"Rohit\":21,\"Dhoni\":43}"
   ]
  },
  {
   "cell_type": "code",
   "execution_count": 2,
   "id": "7de30a24",
   "metadata": {},
   "outputs": [
    {
     "data": {
      "text/plain": [
       "22"
      ]
     },
     "execution_count": 2,
     "metadata": {},
     "output_type": "execute_result"
    }
   ],
   "source": [
    "student_inf[\"Ganesh\"] #access the dictionary value using key"
   ]
  },
  {
   "cell_type": "code",
   "execution_count": 3,
   "id": "91ae75a6",
   "metadata": {},
   "outputs": [],
   "source": [
    "student_inf[\"Sachin\"]=42 #adding elements in dictionary"
   ]
  },
  {
   "cell_type": "code",
   "execution_count": 4,
   "id": "ffb66501",
   "metadata": {},
   "outputs": [
    {
     "data": {
      "text/plain": [
       "{'Ganesh': 22, 'Rohit': 21, 'Dhoni': 43, 'Sachin': 42}"
      ]
     },
     "execution_count": 4,
     "metadata": {},
     "output_type": "execute_result"
    }
   ],
   "source": [
    "student_inf"
   ]
  },
  {
   "cell_type": "code",
   "execution_count": 5,
   "id": "650dbd13",
   "metadata": {},
   "outputs": [],
   "source": [
    "del student_inf[\"Ganesh\"] #deleting elements in dictionary"
   ]
  },
  {
   "cell_type": "code",
   "execution_count": 6,
   "id": "b22be0a8",
   "metadata": {},
   "outputs": [
    {
     "data": {
      "text/plain": [
       "{'Rohit': 21, 'Dhoni': 43, 'Sachin': 42}"
      ]
     },
     "execution_count": 6,
     "metadata": {},
     "output_type": "execute_result"
    }
   ],
   "source": [
    "student_inf"
   ]
  },
  {
   "cell_type": "code",
   "execution_count": null,
   "id": "fd310f29",
   "metadata": {},
   "outputs": [],
   "source": []
  }
 ],
 "metadata": {
  "kernelspec": {
   "display_name": "Python 3 (ipykernel)",
   "language": "python",
   "name": "python3"
  },
  "language_info": {
   "codemirror_mode": {
    "name": "ipython",
    "version": 3
   },
   "file_extension": ".py",
   "mimetype": "text/x-python",
   "name": "python",
   "nbconvert_exporter": "python",
   "pygments_lexer": "ipython3",
   "version": "3.9.12"
  }
 },
 "nbformat": 4,
 "nbformat_minor": 5
}
