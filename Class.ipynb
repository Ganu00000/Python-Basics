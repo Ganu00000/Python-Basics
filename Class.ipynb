{
 "cells": [
  {
   "cell_type": "code",
   "execution_count": 1,
   "id": "79bc6830",
   "metadata": {},
   "outputs": [],
   "source": [
    "class A():\n",
    "    def input_item(self,x,y):\n",
    "        self.x=x\n",
    "        self.y=y\n",
    "    def output_item(self):\n",
    "        print(\"this is x \",self.x)\n",
    "        print(\"this is y \",self.y)\n",
    "    def __init__(self):\n",
    "        print(\"this is constructor\")\n",
    "    def __del__(self):\n",
    "        print(\"this is destructor\")"
   ]
  },
  {
   "cell_type": "code",
   "execution_count": 2,
   "id": "d0d4ceb7",
   "metadata": {},
   "outputs": [
    {
     "name": "stdout",
     "output_type": "stream",
     "text": [
      "this is constructor\n"
     ]
    }
   ],
   "source": [
    "a=A()\n",
    "a.input_item(2,4)"
   ]
  },
  {
   "cell_type": "code",
   "execution_count": 3,
   "id": "368d4b3d",
   "metadata": {},
   "outputs": [
    {
     "name": "stdout",
     "output_type": "stream",
     "text": [
      "this is x  2\n",
      "this is y  4\n"
     ]
    }
   ],
   "source": [
    "a.output_item()"
   ]
  },
  {
   "cell_type": "code",
   "execution_count": 4,
   "id": "242ceebd",
   "metadata": {},
   "outputs": [
    {
     "name": "stdout",
     "output_type": "stream",
     "text": [
      "this is destructor\n"
     ]
    }
   ],
   "source": [
    "del a"
   ]
  },
  {
   "cell_type": "code",
   "execution_count": 5,
   "id": "bef291cf",
   "metadata": {},
   "outputs": [],
   "source": [
    "class B(A):\n",
    "    pass"
   ]
  },
  {
   "cell_type": "code",
   "execution_count": 6,
   "id": "ee919cb9",
   "metadata": {},
   "outputs": [
    {
     "name": "stdout",
     "output_type": "stream",
     "text": [
      "this is constructor\n"
     ]
    }
   ],
   "source": [
    "b=B()"
   ]
  },
  {
   "cell_type": "code",
   "execution_count": 8,
   "id": "bc7901f8",
   "metadata": {},
   "outputs": [
    {
     "name": "stdout",
     "output_type": "stream",
     "text": [
      "this is destructor\n"
     ]
    }
   ],
   "source": [
    "del b"
   ]
  },
  {
   "cell_type": "code",
   "execution_count": 10,
   "id": "ff841163",
   "metadata": {},
   "outputs": [
    {
     "name": "stdout",
     "output_type": "stream",
     "text": [
      "this is constructor\n"
     ]
    }
   ],
   "source": [
    "b=B()\n",
    "b.input_item(9,14)"
   ]
  },
  {
   "cell_type": "code",
   "execution_count": 11,
   "id": "cae683b1",
   "metadata": {},
   "outputs": [
    {
     "name": "stdout",
     "output_type": "stream",
     "text": [
      "this is x  9\n",
      "this is y  14\n"
     ]
    }
   ],
   "source": [
    "b.output_item()"
   ]
  },
  {
   "cell_type": "code",
   "execution_count": 13,
   "id": "cd9851a6",
   "metadata": {},
   "outputs": [
    {
     "name": "stdout",
     "output_type": "stream",
     "text": [
      "this is destructor\n"
     ]
    }
   ],
   "source": [
    "del b"
   ]
  },
  {
   "cell_type": "code",
   "execution_count": 14,
   "id": "3897510a",
   "metadata": {},
   "outputs": [],
   "source": [
    "class C():\n",
    "    def output(self,x):\n",
    "        v=x\n",
    "        print(v)"
   ]
  },
  {
   "cell_type": "code",
   "execution_count": 15,
   "id": "409eb4b7",
   "metadata": {},
   "outputs": [],
   "source": [
    "c=C()"
   ]
  },
  {
   "cell_type": "code",
   "execution_count": 16,
   "id": "0ad5f53d",
   "metadata": {},
   "outputs": [
    {
     "name": "stdout",
     "output_type": "stream",
     "text": [
      "56\n"
     ]
    }
   ],
   "source": [
    "c.output(56)"
   ]
  },
  {
   "cell_type": "code",
   "execution_count": 23,
   "id": "41ffc444",
   "metadata": {},
   "outputs": [],
   "source": [
    "class D():\n",
    "    def input_item(self,x):\n",
    "        self.__name=x"
   ]
  },
  {
   "cell_type": "code",
   "execution_count": 25,
   "id": "31cec43b",
   "metadata": {},
   "outputs": [
    {
     "data": {
      "text/plain": [
       "'Ganesh'"
      ]
     },
     "execution_count": 25,
     "metadata": {},
     "output_type": "execute_result"
    }
   ],
   "source": [
    "d=D()\n",
    "d.input_item(\"Ganesh\")\n",
    "d._D__name"
   ]
  },
  {
   "cell_type": "code",
   "execution_count": null,
   "id": "53f55cb2",
   "metadata": {},
   "outputs": [],
   "source": []
  }
 ],
 "metadata": {
  "kernelspec": {
   "display_name": "Python 3 (ipykernel)",
   "language": "python",
   "name": "python3"
  },
  "language_info": {
   "codemirror_mode": {
    "name": "ipython",
    "version": 3
   },
   "file_extension": ".py",
   "mimetype": "text/x-python",
   "name": "python",
   "nbconvert_exporter": "python",
   "pygments_lexer": "ipython3",
   "version": "3.9.12"
  }
 },
 "nbformat": 4,
 "nbformat_minor": 5
}
