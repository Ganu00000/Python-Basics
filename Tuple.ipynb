{
 "cells": [
  {
   "cell_type": "markdown",
   "id": "3209e806",
   "metadata": {},
   "source": [
    "tuple is ordered and unmutable collection of elements. Unmutable means we can't add or delete elements in it. However, we can overwrite it."
   ]
  },
  {
   "cell_type": "code",
   "execution_count": 1,
   "id": "3b921940",
   "metadata": {},
   "outputs": [],
   "source": [
    "player=(\"Dhoni\",\"Kohli\",\"Sachin\")"
   ]
  },
  {
   "cell_type": "code",
   "execution_count": 2,
   "id": "cab07ae0",
   "metadata": {},
   "outputs": [
    {
     "data": {
      "text/plain": [
       "'Dhoni'"
      ]
     },
     "execution_count": 2,
     "metadata": {},
     "output_type": "execute_result"
    }
   ],
   "source": [
    "player[0] # access first element of tuple"
   ]
  },
  {
   "cell_type": "code",
   "execution_count": 3,
   "id": "4a2bef58",
   "metadata": {},
   "outputs": [
    {
     "data": {
      "text/plain": [
       "'Sachin'"
      ]
     },
     "execution_count": 3,
     "metadata": {},
     "output_type": "execute_result"
    }
   ],
   "source": [
    "player[-1] #access last element of tuple"
   ]
  },
  {
   "cell_type": "code",
   "execution_count": 4,
   "id": "4f29da6c",
   "metadata": {},
   "outputs": [
    {
     "data": {
      "text/plain": [
       "('Kohli', 'Sachin')"
      ]
     },
     "execution_count": 4,
     "metadata": {},
     "output_type": "execute_result"
    }
   ],
   "source": [
    "player[-2:] #access elements from second last"
   ]
  },
  {
   "cell_type": "code",
   "execution_count": 5,
   "id": "a3529b09",
   "metadata": {},
   "outputs": [
    {
     "data": {
      "text/plain": [
       "('Dhoni',)"
      ]
     },
     "execution_count": 5,
     "metadata": {},
     "output_type": "execute_result"
    }
   ],
   "source": [
    "player[0:1] #access elements between 0 and 1 index. i.e first element"
   ]
  },
  {
   "cell_type": "code",
   "execution_count": 6,
   "id": "27f75bab",
   "metadata": {},
   "outputs": [
    {
     "data": {
      "text/plain": [
       "('Dhoni', 'Kohli')"
      ]
     },
     "execution_count": 6,
     "metadata": {},
     "output_type": "execute_result"
    }
   ],
   "source": [
    "player[0:2] #access first and second element"
   ]
  },
  {
   "cell_type": "code",
   "execution_count": null,
   "id": "18ef557d",
   "metadata": {},
   "outputs": [],
   "source": []
  }
 ],
 "metadata": {
  "kernelspec": {
   "display_name": "Python 3 (ipykernel)",
   "language": "python",
   "name": "python3"
  },
  "language_info": {
   "codemirror_mode": {
    "name": "ipython",
    "version": 3
   },
   "file_extension": ".py",
   "mimetype": "text/x-python",
   "name": "python",
   "nbconvert_exporter": "python",
   "pygments_lexer": "ipython3",
   "version": "3.9.12"
  }
 },
 "nbformat": 4,
 "nbformat_minor": 5
}
